{
 "cells": [
  {
   "cell_type": "code",
   "execution_count": 1,
   "id": "3c7c5731-de21-486e-83aa-ed887bc17d2b",
   "metadata": {},
   "outputs": [],
   "source": [
    "import json\n",
    "from docx import Document"
   ]
  },
  {
   "cell_type": "code",
   "execution_count": 2,
   "id": "5faaf546-1224-4f4c-acef-51ddb64e093f",
   "metadata": {},
   "outputs": [],
   "source": [
    "data_path = \"/workspaces/podcast-transcript-rag/data/the_daily_03_13_2025.docx\"\n",
    "document = Document(data_path)"
   ]
  },
  {
   "cell_type": "code",
   "execution_count": 3,
   "id": "dbf9daa3-19da-459d-bcae-e18598c82290",
   "metadata": {},
   "outputs": [],
   "source": [
    "documents = []\n",
    "curr_speaker = ''\n",
    "curr_utterance = ''\n",
    "\n",
    "\n",
    "for paragraph in document.paragraphs:\n",
    "    txt = paragraph.text.strip()\n",
    "    style = paragraph.style.name.lower()\n",
    "    indent = paragraph.paragraph_format.left_indent\n",
    "    \n",
    "    if not txt:\n",
    "        continue\n",
    "\n",
    "    # get speaker name\n",
    "    if style == 'heading 4' and not indent:\n",
    "        curr_speaker = txt\n",
    "        curr_utterance = ''\n",
    "        continue\n",
    "\n",
    "    # get utterance from speaker\n",
    "    if style == 'normal' and indent == 457200:\n",
    "        curr_utterance = txt\n",
    "        documents.append({\n",
    "            'speaker': curr_speaker,\n",
    "            'utterance': curr_utterance\n",
    "        }) "
   ]
  },
  {
   "cell_type": "code",
   "execution_count": 4,
   "id": "af07205e-64b6-4d2b-914c-0bdd47a159b1",
   "metadata": {},
   "outputs": [
    {
     "data": {
      "text/plain": [
       "[{'speaker': 'michael simon johnson',\n",
       "  'utterance': 'This is “Daily” producer Michael Simon Johnson. I am in downtown Toronto because things are getting real here in Canada.'},\n",
       " {'speaker': 'anna foley',\n",
       "  'utterance': 'OK, Anna Foley here, producer on “The Daily.” I have just touched down in Winnipeg in Manitoba, Canada.'},\n",
       " {'speaker': 'michael simon johnson',\n",
       "  'utterance': 'It feels like the vibe is changing, and I am here to do a vibe check.'},\n",
       " {'speaker': 'anna foley',\n",
       "  'utterance': 'How would you describe how you’re feeling about what’s going on between the US and Canada right now?'},\n",
       " {'speaker': 'speaker 1',\n",
       "  'utterance': 'Canadians have always been known as nice people. We turn the other cheek. We’ve been kind of backed into a corner now by your president.'}]"
      ]
     },
     "execution_count": 4,
     "metadata": {},
     "output_type": "execute_result"
    }
   ],
   "source": [
    "documents[:5]"
   ]
  },
  {
   "cell_type": "code",
   "execution_count": 6,
   "id": "e3ead13f-d413-4ece-afeb-4ffdd5829877",
   "metadata": {},
   "outputs": [],
   "source": [
    "with open(\"./data.json\", \"w\", encoding='utf-8') as file:\n",
    "    json.dump(documents, file, indent=4)"
   ]
  },
  {
   "cell_type": "code",
   "execution_count": null,
   "id": "c14f0abc-1177-4dce-8dc7-a0f43838c34e",
   "metadata": {},
   "outputs": [],
   "source": []
  }
 ],
 "metadata": {
  "kernelspec": {
   "display_name": "Python 3 (ipykernel)",
   "language": "python",
   "name": "python3"
  },
  "language_info": {
   "codemirror_mode": {
    "name": "ipython",
    "version": 3
   },
   "file_extension": ".py",
   "mimetype": "text/x-python",
   "name": "python",
   "nbconvert_exporter": "python",
   "pygments_lexer": "ipython3",
   "version": "3.12.1"
  }
 },
 "nbformat": 4,
 "nbformat_minor": 5
}
